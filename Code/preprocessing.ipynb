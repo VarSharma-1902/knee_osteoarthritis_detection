{
 "cells": [
  {
   "cell_type": "code",
   "execution_count": 1,
   "metadata": {},
   "outputs": [],
   "source": [
    "import cv2 \n",
    "import numpy as np\n",
    "import matplotlib.pyplot as plt\n",
    "from PIL import Image\n",
    "import os"
   ]
  },
  {
   "cell_type": "markdown",
   "metadata": {},
   "source": [
    "### Enhance images using CLAHE"
   ]
  },
  {
   "cell_type": "markdown",
   "metadata": {},
   "source": [
    "#### Train dataset"
   ]
  },
  {
   "cell_type": "code",
   "execution_count": 16,
   "metadata": {},
   "outputs": [
    {
     "name": "stdout",
     "output_type": "stream",
     "text": [
      "C:/Users/dell/Documents/VIT/Capstone/Dataset/Original/train/0\n",
      "2286\n",
      "C:/Users/dell/Documents/VIT/Capstone/Dataset/Original/train/1\n",
      "1046\n",
      "C:/Users/dell/Documents/VIT/Capstone/Dataset/Original/train/2\n",
      "1516\n",
      "C:/Users/dell/Documents/VIT/Capstone/Dataset/Original/train/3\n",
      "757\n",
      "C:/Users/dell/Documents/VIT/Capstone/Dataset/Original/train/4\n",
      "173\n"
     ]
    }
   ],
   "source": [
    "classes = ['0', '1', '2', '3', '4']\n",
    "\n",
    "\n",
    "for cl in classes:\n",
    "    folder_dir = \"C:/Users/dell/Documents/VIT/Capstone/Dataset/Original/train/\" + cl\n",
    "    print(folder_dir)\n",
    "    count = 0\n",
    "    for images in os.listdir(folder_dir):\n",
    "        # print(folder_dir + \"/\" + images)\n",
    "        img = cv2.imread(folder_dir + \"/\" + images)\n",
    "        imgResize = cv2.resize(img, (176, 176))\n",
    "\n",
    "        #image is converted to grayscale\n",
    "        #CLAHE can be applied to RGB images also by applying it on all the three components individually\n",
    "        #the result of the full RGB can be obtained by combining the individual components\n",
    "        image_bw = cv2.cvtColor(imgResize, cv2.COLOR_BGR2GRAY)\n",
    "\n",
    "        # The declaration of CLAHE\n",
    "        # clipLimit -> Threshold for contrast limiting\n",
    "        # tileGridSize -> Number of tiles in the row and column\n",
    "        clahe = cv2.createCLAHE(clipLimit=2, tileGridSize=(6, 6))\n",
    "        final_img = clahe.apply(image_bw)\n",
    "\n",
    "        target_dir = \"C:/Users/dell/Documents/VIT/Capstone/Dataset/CLAHE/train/\" + cl + \"/\" + images\n",
    "        # print(target_dir)\n",
    "        cv2.imwrite(target_dir, final_img)\n",
    "        count += 1\n",
    "    print(count)"
   ]
  },
  {
   "cell_type": "markdown",
   "metadata": {},
   "source": [
    "#### Validation dataset"
   ]
  },
  {
   "cell_type": "code",
   "execution_count": 17,
   "metadata": {},
   "outputs": [
    {
     "name": "stdout",
     "output_type": "stream",
     "text": [
      "C:/Users/dell/Documents/VIT/Capstone/Dataset/Original/val/0\n",
      "328\n",
      "C:/Users/dell/Documents/VIT/Capstone/Dataset/Original/val/1\n",
      "153\n",
      "C:/Users/dell/Documents/VIT/Capstone/Dataset/Original/val/2\n",
      "212\n",
      "C:/Users/dell/Documents/VIT/Capstone/Dataset/Original/val/3\n",
      "106\n",
      "C:/Users/dell/Documents/VIT/Capstone/Dataset/Original/val/4\n",
      "27\n"
     ]
    }
   ],
   "source": [
    "classes = ['0', '1', '2', '3', '4']\n",
    "\n",
    "\n",
    "for cl in classes:\n",
    "    folder_dir = \"C:/Users/dell/Documents/VIT/Capstone/Dataset/Original/val/\" + cl\n",
    "    print(folder_dir)\n",
    "    count = 0\n",
    "    for images in os.listdir(folder_dir):\n",
    "        # print(folder_dir + \"/\" + images)\n",
    "        img = cv2.imread(folder_dir + \"/\" + images)\n",
    "        imgResize = cv2.resize(img, (176, 176))\n",
    "\n",
    "        #image is converted to grayscale\n",
    "        #CLAHE can be applied to RGB images also by applying it on all the three components individually\n",
    "        #the result of the full RGB can be obtained by combining the individual components\n",
    "        image_bw = cv2.cvtColor(imgResize, cv2.COLOR_BGR2GRAY)\n",
    "\n",
    "        # The declaration of CLAHE\n",
    "        # clipLimit -> Threshold for contrast limiting\n",
    "        # tileGridSize -> Number of tiles in the row and column\n",
    "        clahe = cv2.createCLAHE(clipLimit=2, tileGridSize=(6, 6))\n",
    "        final_img = clahe.apply(image_bw)\n",
    "\n",
    "        target_dir = \"C:/Users/dell/Documents/VIT/Capstone/Dataset/CLAHE/val/\" + cl + \"/\" + images\n",
    "        # print(target_dir)\n",
    "        cv2.imwrite(target_dir, final_img)\n",
    "        count += 1\n",
    "    print(count)"
   ]
  },
  {
   "cell_type": "markdown",
   "metadata": {},
   "source": [
    "#### Test dataset"
   ]
  },
  {
   "cell_type": "code",
   "execution_count": 18,
   "metadata": {},
   "outputs": [
    {
     "name": "stdout",
     "output_type": "stream",
     "text": [
      "C:/Users/dell/Documents/VIT/Capstone/Dataset/Original/test/0\n",
      "639\n",
      "C:/Users/dell/Documents/VIT/Capstone/Dataset/Original/test/1\n",
      "296\n",
      "C:/Users/dell/Documents/VIT/Capstone/Dataset/Original/test/2\n",
      "447\n",
      "C:/Users/dell/Documents/VIT/Capstone/Dataset/Original/test/3\n",
      "223\n",
      "C:/Users/dell/Documents/VIT/Capstone/Dataset/Original/test/4\n",
      "51\n"
     ]
    }
   ],
   "source": [
    "classes = ['0', '1', '2', '3', '4']\n",
    "\n",
    "\n",
    "for cl in classes:\n",
    "    folder_dir = \"C:/Users/dell/Documents/VIT/Capstone/Dataset/Original/test/\" + cl\n",
    "    print(folder_dir)\n",
    "    count = 0\n",
    "    for images in os.listdir(folder_dir):\n",
    "        # print(folder_dir + \"/\" + images)\n",
    "        img = cv2.imread(folder_dir + \"/\" + images)\n",
    "        imgResize = cv2.resize(img, (176, 176))\n",
    "\n",
    "        #image is converted to grayscale\n",
    "        #CLAHE can be applied to RGB images also by applying it on all the three components individually\n",
    "        #the result of the full RGB can be obtained by combining the individual components\n",
    "        image_bw = cv2.cvtColor(imgResize, cv2.COLOR_BGR2GRAY)\n",
    "\n",
    "        # The declaration of CLAHE\n",
    "        # clipLimit -> Threshold for contrast limiting\n",
    "        # tileGridSize -> Number of tiles in the row and column\n",
    "        clahe = cv2.createCLAHE(clipLimit=2, tileGridSize=(6, 6))\n",
    "        final_img = clahe.apply(image_bw)\n",
    "\n",
    "        target_dir = \"C:/Users/dell/Documents/VIT/Capstone/Dataset/CLAHE/test/\" + cl + \"/\" + images\n",
    "        # print(target_dir)\n",
    "        cv2.imwrite(target_dir, final_img)\n",
    "        count += 1\n",
    "    print(count)"
   ]
  },
  {
   "cell_type": "markdown",
   "metadata": {},
   "source": [
    "### Calculate PSNR"
   ]
  },
  {
   "cell_type": "code",
   "execution_count": 6,
   "metadata": {},
   "outputs": [],
   "source": [
    "from math import log10, sqrt \n",
    "def PSNR(original, compressed): \n",
    "    mse = np.mean((original - compressed) ** 2) \n",
    "    if(mse == 0):  # MSE is zero means no noise is present in the signal . \n",
    "                  # Therefore PSNR have no importance. \n",
    "        return 100\n",
    "    max_pixel = 255.0\n",
    "    psnr = 20 * log10(max_pixel / sqrt(mse)) \n",
    "    return psnr"
   ]
  },
  {
   "cell_type": "code",
   "execution_count": 479,
   "metadata": {},
   "outputs": [
    {
     "data": {
      "text/plain": [
       "29.50388683055172"
      ]
     },
     "execution_count": 479,
     "metadata": {},
     "output_type": "execute_result"
    }
   ],
   "source": [
    "PSNR(image_bw, final_img)"
   ]
  },
  {
   "cell_type": "code",
   "execution_count": 16,
   "metadata": {},
   "outputs": [
    {
     "name": "stdout",
     "output_type": "stream",
     "text": [
      "(176, 176, 3)\n",
      "(176, 176, 3)\n"
     ]
    }
   ],
   "source": [
    "i = cv2.imread(\"C:/Users/dell/Documents/VIT/Capstone/Dataset/Original/train/0/9001695L.png\")\n",
    "i = cv2.resize(i,(176,176))\n",
    "print(i.shape)\n",
    "\n",
    "n = cv2.imread(\"C:/Users/dell/Documents/VIT/Capstone/Dataset/CLAHE/train/0/9001695L.png\")\n",
    "print(n.shape)"
   ]
  },
  {
   "cell_type": "code",
   "execution_count": 3,
   "metadata": {},
   "outputs": [],
   "source": [
    "def findPSNR_dir(org_img_dir, new_img_dir):\n",
    "    org_imgs = []\n",
    "    new_imgs = []\n",
    "\n",
    "    for img in os.listdir(org_img_dir):\n",
    "        # oim = cv2.imread(org_img_dir + \"/\" + img)\n",
    "        org_imgs.append(org_img_dir + \"/\" + img)\n",
    "\n",
    "    for img in os.listdir(new_img_dir):\n",
    "        # nim = cv2.imread(new_img_dir + \"/\" + img)\n",
    "        new_imgs.append(new_img_dir + \"/\" + img)\n",
    "\n",
    "    psnr_values = []\n",
    "\n",
    "    for i in range(len(org_imgs)):\n",
    "        orgImg = cv2.imread(org_imgs[i])\n",
    "        newImg = cv2.imread(new_imgs[i])\n",
    "        orgImg = cv2.resize(orgImg, (176,176))\n",
    "        psnr_values.append(PSNR(orgImg, newImg))\n",
    "    \n",
    "    return psnr_values"
   ]
  },
  {
   "cell_type": "code",
   "execution_count": 8,
   "metadata": {},
   "outputs": [],
   "source": [
    "def cal_PSNR_avg(psnr_vals):\n",
    "    psnr_avg = 0\n",
    "\n",
    "    for val in psnr_vals:\n",
    "        psnr_avg += val\n",
    "\n",
    "    psnr_avg /= len(psnr_vals)\n",
    "\n",
    "    return psnr_avg"
   ]
  },
  {
   "cell_type": "markdown",
   "metadata": {},
   "source": [
    "#### For training data"
   ]
  },
  {
   "cell_type": "code",
   "execution_count": 7,
   "metadata": {},
   "outputs": [
    {
     "name": "stdout",
     "output_type": "stream",
     "text": [
      "Class 0 2286\n",
      "Class 1 1046\n",
      "Class 2 1516\n",
      "Class 3 757\n",
      "Class 4 173\n"
     ]
    }
   ],
   "source": [
    "#for class 0\n",
    "org_img_dir_class0 = \"C:/Users/dell/Documents/VIT/Capstone/Dataset_old/Original/train/0\"\n",
    "new_img_dir_class0 = \"C:/Users/dell/Documents/VIT/Capstone/Dataset_old/CLAHE/train/0\"\n",
    "\n",
    "psnr_class0 = findPSNR_dir(org_img_dir_class0, new_img_dir_class0)\n",
    "print(\"Class 0\", len(psnr_class0))\n",
    "\n",
    "\n",
    "#for class 1 \n",
    "org_img_dir_class1 = \"C:/Users/dell/Documents/VIT/Capstone/Dataset_old/Original/train/1\"\n",
    "new_img_dir_class1 = \"C:/Users/dell/Documents/VIT/Capstone/Dataset_old/CLAHE/train/1\"\n",
    "\n",
    "psnr_class1 = findPSNR_dir(org_img_dir_class1, new_img_dir_class1)\n",
    "print(\"Class 1\", len(psnr_class1))\n",
    "\n",
    "\n",
    "#for class 2\n",
    "org_img_dir_class2 = \"C:/Users/dell/Documents/VIT/Capstone/Dataset_old/Original/train/2\"\n",
    "new_img_dir_class2 = \"C:/Users/dell/Documents/VIT/Capstone/Dataset_old/CLAHE/train/2\"\n",
    "\n",
    "psnr_class2 = findPSNR_dir(org_img_dir_class2, new_img_dir_class2)\n",
    "print(\"Class 2\", len(psnr_class2))\n",
    "\n",
    "\n",
    "#for class 3\n",
    "org_img_dir_class3 = \"C:/Users/dell/Documents/VIT/Capstone/Dataset_old/Original/train/3\"\n",
    "new_img_dir_class3 = \"C:/Users/dell/Documents/VIT/Capstone/Dataset_old/CLAHE/train/3\"\n",
    "\n",
    "psnr_class3 = findPSNR_dir(org_img_dir_class3, new_img_dir_class3)\n",
    "print(\"Class 3\", len(psnr_class3))\n",
    "\n",
    "\n",
    "#for class 4\n",
    "org_img_dir_class4 = \"C:/Users/dell/Documents/VIT/Capstone/Dataset_old/Original/train/4\"\n",
    "new_img_dir_class4 = \"C:/Users/dell/Documents/VIT/Capstone/Dataset_old/CLAHE/train/4\"\n",
    "\n",
    "psnr_class4 = findPSNR_dir(org_img_dir_class4, new_img_dir_class4)\n",
    "print(\"Class 4\", len(psnr_class4))"
   ]
  },
  {
   "cell_type": "code",
   "execution_count": 10,
   "metadata": {},
   "outputs": [
    {
     "name": "stdout",
     "output_type": "stream",
     "text": [
      "PSNR Average Values for Training Data:\n",
      "Class 0 :  29.334148265728146\n",
      "Class 1 :  29.33678043655512\n",
      "Class 2 :  29.32868881651487\n",
      "Class 3 :  29.402474257194264\n",
      "Class 4 :  29.400820655406818\n"
     ]
    }
   ],
   "source": [
    "print(\"PSNR Average Values for Training Data:\")\n",
    "\n",
    "print(\"Class 0 : \", cal_PSNR_avg(psnr_class0))\n",
    "print(\"Class 1 : \", cal_PSNR_avg(psnr_class1))\n",
    "print(\"Class 2 : \", cal_PSNR_avg(psnr_class2))\n",
    "print(\"Class 3 : \", cal_PSNR_avg(psnr_class3))\n",
    "print(\"Class 4 : \", cal_PSNR_avg(psnr_class4))"
   ]
  },
  {
   "cell_type": "markdown",
   "metadata": {},
   "source": [
    "#### For validation data"
   ]
  },
  {
   "cell_type": "code",
   "execution_count": 15,
   "metadata": {},
   "outputs": [
    {
     "name": "stdout",
     "output_type": "stream",
     "text": [
      "Validation Data: \n",
      "Class 0 328\n",
      "Class 1 153\n",
      "Class 2 212\n",
      "Class 3 106\n",
      "Class 4 27\n"
     ]
    }
   ],
   "source": [
    "print(\"Validation Data: \")\n",
    "#for class 0\n",
    "org_img_dir_class0 = \"C:/Users/dell/Documents/VIT/Capstone/Dataset_old/Original/val/0\"\n",
    "new_img_dir_class0 = \"C:/Users/dell/Documents/VIT/Capstone/Dataset_old/CLAHE/val/0\"\n",
    "\n",
    "psnr_class0_val = findPSNR_dir(org_img_dir_class0, new_img_dir_class0)\n",
    "print(\"Class 0\", len(psnr_class0_val))\n",
    "\n",
    "\n",
    "#for class 1 \n",
    "org_img_dir_class1 = \"C:/Users/dell/Documents/VIT/Capstone/Dataset_old/Original/val/1\"\n",
    "new_img_dir_class1 = \"C:/Users/dell/Documents/VIT/Capstone/Dataset_old/CLAHE/val/1\"\n",
    "\n",
    "psnr_class1_val = findPSNR_dir(org_img_dir_class1, new_img_dir_class1)\n",
    "print(\"Class 1\", len(psnr_class1_val))\n",
    "\n",
    "\n",
    "#for class 2\n",
    "org_img_dir_class2 = \"C:/Users/dell/Documents/VIT/Capstone/Dataset_old/Original/val/2\"\n",
    "new_img_dir_class2 = \"C:/Users/dell/Documents/VIT/Capstone/Dataset_old/CLAHE/val/2\"\n",
    "\n",
    "psnr_class2_val = findPSNR_dir(org_img_dir_class2, new_img_dir_class2)\n",
    "print(\"Class 2\", len(psnr_class2_val))\n",
    "\n",
    "\n",
    "#for class 3\n",
    "org_img_dir_class3 = \"C:/Users/dell/Documents/VIT/Capstone/Dataset_old/Original/val/3\"\n",
    "new_img_dir_class3 = \"C:/Users/dell/Documents/VIT/Capstone/Dataset_old/CLAHE/val/3\"\n",
    "\n",
    "psnr_class3_val = findPSNR_dir(org_img_dir_class3, new_img_dir_class3)\n",
    "print(\"Class 3\", len(psnr_class3_val))\n",
    "\n",
    "\n",
    "#for class 4\n",
    "org_img_dir_class4 = \"C:/Users/dell/Documents/VIT/Capstone/Dataset_old/Original/val/4\"\n",
    "new_img_dir_class4 = \"C:/Users/dell/Documents/VIT/Capstone/Dataset_old/CLAHE/val/4\"\n",
    "\n",
    "psnr_class4_val = findPSNR_dir(org_img_dir_class4, new_img_dir_class4)\n",
    "print(\"Class 4\", len(psnr_class4_val))"
   ]
  },
  {
   "cell_type": "code",
   "execution_count": 17,
   "metadata": {},
   "outputs": [
    {
     "name": "stdout",
     "output_type": "stream",
     "text": [
      "PSNR Average Values for Validation Data:\n",
      "Class 0 :  29.39797722970065\n",
      "Class 1 :  29.389291094154313\n",
      "Class 2 :  29.334343780053416\n",
      "Class 3 :  29.37759310584884\n",
      "Class 4 :  29.44038490367822\n"
     ]
    }
   ],
   "source": [
    "print(\"PSNR Average Values for Validation Data:\")\n",
    "\n",
    "print(\"Class 0 : \", cal_PSNR_avg(psnr_class0_val))\n",
    "print(\"Class 1 : \", cal_PSNR_avg(psnr_class1_val))\n",
    "print(\"Class 2 : \", cal_PSNR_avg(psnr_class2_val))\n",
    "print(\"Class 3 : \", cal_PSNR_avg(psnr_class3_val))\n",
    "print(\"Class 4 : \", cal_PSNR_avg(psnr_class4_val))"
   ]
  },
  {
   "cell_type": "markdown",
   "metadata": {},
   "source": [
    "#### For testing data"
   ]
  },
  {
   "cell_type": "code",
   "execution_count": 16,
   "metadata": {},
   "outputs": [
    {
     "name": "stdout",
     "output_type": "stream",
     "text": [
      "Testing Data: \n",
      "Class 0 639\n",
      "Class 1 296\n",
      "Class 2 447\n",
      "Class 3 223\n",
      "Class 4 51\n"
     ]
    }
   ],
   "source": [
    "print(\"Testing Data: \")\n",
    "#for class 0\n",
    "org_img_dir_class0_test = \"C:/Users/dell/Documents/VIT/Capstone/Dataset_old/Original/test/0\"\n",
    "new_img_dir_class0_test = \"C:/Users/dell/Documents/VIT/Capstone/Dataset_old/CLAHE/test/0\"\n",
    "\n",
    "psnr_class0_test = findPSNR_dir(org_img_dir_class0_test, new_img_dir_class0_test)\n",
    "print(\"Class 0\", len(psnr_class0_test))\n",
    "\n",
    "\n",
    "#for class 1 \n",
    "org_img_dir_class1_test = \"C:/Users/dell/Documents/VIT/Capstone/Dataset_old/Original/test/1\"\n",
    "new_img_dir_class1_test = \"C:/Users/dell/Documents/VIT/Capstone/Dataset_old/CLAHE/test/1\"\n",
    "\n",
    "psnr_class1_test = findPSNR_dir(org_img_dir_class1_test, new_img_dir_class1_test)\n",
    "print(\"Class 1\", len(psnr_class1_test))\n",
    "\n",
    "\n",
    "#for class 2\n",
    "org_img_dir_class2_test = \"C:/Users/dell/Documents/VIT/Capstone/Dataset_old/Original/test/2\"\n",
    "new_img_dir_class2_test = \"C:/Users/dell/Documents/VIT/Capstone/Dataset_old/CLAHE/test/2\"\n",
    "\n",
    "psnr_class2_test = findPSNR_dir(org_img_dir_class2_test, new_img_dir_class2_test)\n",
    "print(\"Class 2\", len(psnr_class2_test))\n",
    "\n",
    "\n",
    "#for class 3\n",
    "org_img_dir_class3_test = \"C:/Users/dell/Documents/VIT/Capstone/Dataset_old/Original/test/3\"\n",
    "new_img_dir_class3_test = \"C:/Users/dell/Documents/VIT/Capstone/Dataset_old/CLAHE/test/3\"\n",
    "\n",
    "psnr_class3_test = findPSNR_dir(org_img_dir_class3_test, new_img_dir_class3_test)\n",
    "print(\"Class 3\", len(psnr_class3_test))\n",
    "\n",
    "\n",
    "#for class 4\n",
    "org_img_dir_class4_test = \"C:/Users/dell/Documents/VIT/Capstone/Dataset_old/Original/test/4\"\n",
    "new_img_dir_class4_test = \"C:/Users/dell/Documents/VIT/Capstone/Dataset_old/CLAHE/test/4\"\n",
    "\n",
    "psnr_class4_test = findPSNR_dir(org_img_dir_class4_test, new_img_dir_class4_test)\n",
    "print(\"Class 4\", len(psnr_class4_test))"
   ]
  },
  {
   "cell_type": "code",
   "execution_count": 18,
   "metadata": {},
   "outputs": [
    {
     "name": "stdout",
     "output_type": "stream",
     "text": [
      "PSNR Average Values for Testing Data:\n",
      "Class 0 :  29.371825752580367\n",
      "Class 1 :  29.250153512887856\n",
      "Class 2 :  29.367620353398614\n",
      "Class 3 :  29.355637783905244\n",
      "Class 4 :  29.441236801652003\n"
     ]
    }
   ],
   "source": [
    "print(\"PSNR Average Values for Testing Data:\")\n",
    "\n",
    "print(\"Class 0 : \", cal_PSNR_avg(psnr_class0_test))\n",
    "print(\"Class 1 : \", cal_PSNR_avg(psnr_class1_test))\n",
    "print(\"Class 2 : \", cal_PSNR_avg(psnr_class2_test))\n",
    "print(\"Class 3 : \", cal_PSNR_avg(psnr_class3_test))\n",
    "print(\"Class 4 : \", cal_PSNR_avg(psnr_class4_test))"
   ]
  },
  {
   "cell_type": "markdown",
   "metadata": {},
   "source": [
    "### Cropping the Image"
   ]
  },
  {
   "cell_type": "code",
   "execution_count": 36,
   "metadata": {},
   "outputs": [
    {
     "data": {
      "text/plain": [
       "<matplotlib.image.AxesImage at 0x2856c8fb370>"
      ]
     },
     "execution_count": 36,
     "metadata": {},
     "output_type": "execute_result"
    },
    {
     "data": {
      "image/png": "[encoded data removed]",
      "text/plain": [
       "<Figure size 432x288 with 1 Axes>"
      ]
     },
     "metadata": {
      "needs_background": "light"
     },
     "output_type": "display_data"
    }
   ],
   "source": [
    "img = cv2.imread(\"C:/Users/dell/Documents/VIT/Capstone/Dataset/CLAHE/train/4/9160801R.png\", cv2.IMREAD_GRAYSCALE)\n",
    "plt.imshow(cv2.cvtColor(img, cv2.COLOR_BGR2RGB))"
   ]
  },
  {
   "cell_type": "code",
   "execution_count": 37,
   "metadata": {},
   "outputs": [
    {
     "data": {
      "text/plain": [
       "<matplotlib.image.AxesImage at 0x2856c96c1f0>"
      ]
     },
     "execution_count": 37,
     "metadata": {},
     "output_type": "execute_result"
    },
    {
     "data": {
      "image/png": "[encoded data removed]",
      "text/plain": [
       "<Figure size 432x288 with 1 Axes>"
      ]
     },
     "metadata": {
      "needs_background": "light"
     },
     "output_type": "display_data"
    }
   ],
   "source": [
    "cropped_img = img[70:130,10:180]\n",
    "plt.imshow(cv2.cvtColor(cropped_img, cv2.COLOR_BGR2RGB))"
   ]
  },
  {
   "cell_type": "code",
   "execution_count": 21,
   "metadata": {},
   "outputs": [
    {
     "name": "stdout",
     "output_type": "stream",
     "text": [
      "(224, 224)\n"
     ]
    },
    {
     "data": {
      "image/png": "[encoded data removed]",
      "text/plain": [
       "<Figure size 432x288 with 1 Axes>"
      ]
     },
     "metadata": {
      "needs_background": "light"
     },
     "output_type": "display_data"
    }
   ],
   "source": [
    "img = cv2.imread(\"C:/Users/dell/Documents/VIT/Capstone/Dataset_old/Original/train/4/9160801R.png\", cv2.IMREAD_GRAYSCALE)\n",
    "plt.imshow(cv2.cvtColor(img, cv2.COLOR_BGR2RGB))\n",
    "print(img.shape)"
   ]
  },
  {
   "cell_type": "code",
   "execution_count": 38,
   "metadata": {},
   "outputs": [
    {
     "name": "stdout",
     "output_type": "stream",
     "text": [
      "C:/Users/dell/Documents/VIT/Capstone/Dataset/CLAHE/train/0\n",
      "2286\n",
      "C:/Users/dell/Documents/VIT/Capstone/Dataset/CLAHE/train/1\n",
      "1046\n",
      "C:/Users/dell/Documents/VIT/Capstone/Dataset/CLAHE/train/2\n",
      "1516\n",
      "C:/Users/dell/Documents/VIT/Capstone/Dataset/CLAHE/train/3\n",
      "757\n",
      "C:/Users/dell/Documents/VIT/Capstone/Dataset/CLAHE/train/4\n",
      "173\n"
     ]
    }
   ],
   "source": [
    "## for train data\n",
    "\n",
    "classes = ['0', '1', '2', '3', '4']\n",
    "\n",
    "\n",
    "for cl in classes:\n",
    "    folder_dir = \"C:/Users/dell/Documents/VIT/Capstone/Dataset/CLAHE/train/\" + cl\n",
    "    print(folder_dir)\n",
    "    count = 0\n",
    "    for images in os.listdir(folder_dir):\n",
    "        # print(folder_dir + \"/\" + images)\n",
    "        img = cv2.imread(folder_dir + \"/\" + images)\n",
    "        imgResize = cv2.resize(img, (176, 176))\n",
    "\n",
    "        # crop image\n",
    "        cropped_img = img[70:130,10:180]\n",
    "\n",
    "        target_dir = \"C:/Users/dell/Documents/VIT/Capstone/Dataset/Cropped/train/\" + cl + \"/\" + images\n",
    "        # print(target_dir)\n",
    "        cv2.imwrite(target_dir, cropped_img)\n",
    "        count += 1\n",
    "    print(count)"
   ]
  },
  {
   "cell_type": "code",
   "execution_count": 39,
   "metadata": {},
   "outputs": [
    {
     "name": "stdout",
     "output_type": "stream",
     "text": [
      "C:/Users/dell/Documents/VIT/Capstone/Dataset/CLAHE/val/0\n",
      "328\n",
      "C:/Users/dell/Documents/VIT/Capstone/Dataset/CLAHE/val/1\n",
      "153\n",
      "C:/Users/dell/Documents/VIT/Capstone/Dataset/CLAHE/val/2\n",
      "212\n",
      "C:/Users/dell/Documents/VIT/Capstone/Dataset/CLAHE/val/3\n",
      "106\n",
      "C:/Users/dell/Documents/VIT/Capstone/Dataset/CLAHE/val/4\n",
      "27\n"
     ]
    }
   ],
   "source": [
    "## for validation data\n",
    "\n",
    "classes = ['0', '1', '2', '3', '4']\n",
    "\n",
    "\n",
    "for cl in classes:\n",
    "    folder_dir = \"C:/Users/dell/Documents/VIT/Capstone/Dataset/CLAHE/val/\" + cl\n",
    "    print(folder_dir)\n",
    "    count = 0\n",
    "    for images in os.listdir(folder_dir):\n",
    "        # print(folder_dir + \"/\" + images)\n",
    "        img = cv2.imread(folder_dir + \"/\" + images)\n",
    "        imgResize = cv2.resize(img, (176, 176))\n",
    "\n",
    "        # crop image\n",
    "        cropped_img = img[70:130,10:180]\n",
    "\n",
    "        target_dir = \"C:/Users/dell/Documents/VIT/Capstone/Dataset/Cropped/val/\" + cl + \"/\" + images\n",
    "        # print(target_dir)\n",
    "        cv2.imwrite(target_dir, cropped_img)\n",
    "        count += 1\n",
    "    print(count)"
   ]
  },
  {
   "cell_type": "code",
   "execution_count": 40,
   "metadata": {},
   "outputs": [
    {
     "name": "stdout",
     "output_type": "stream",
     "text": [
      "C:/Users/dell/Documents/VIT/Capstone/Dataset/CLAHE/test/0\n",
      "639\n",
      "C:/Users/dell/Documents/VIT/Capstone/Dataset/CLAHE/test/1\n",
      "296\n",
      "C:/Users/dell/Documents/VIT/Capstone/Dataset/CLAHE/test/2\n",
      "447\n",
      "C:/Users/dell/Documents/VIT/Capstone/Dataset/CLAHE/test/3\n",
      "223\n",
      "C:/Users/dell/Documents/VIT/Capstone/Dataset/CLAHE/test/4\n",
      "51\n"
     ]
    }
   ],
   "source": [
    "## for test data\n",
    "\n",
    "classes = ['0', '1', '2', '3', '4']\n",
    "\n",
    "\n",
    "for cl in classes:\n",
    "    folder_dir = \"C:/Users/dell/Documents/VIT/Capstone/Dataset/CLAHE/test/\" + cl\n",
    "    print(folder_dir)\n",
    "    count = 0\n",
    "    for images in os.listdir(folder_dir):\n",
    "        # print(folder_dir + \"/\" + images)\n",
    "        img = cv2.imread(folder_dir + \"/\" + images)\n",
    "        imgResize = cv2.resize(img, (176, 176))\n",
    "\n",
    "        # crop image\n",
    "        cropped_img = img[70:130,10:180]\n",
    "\n",
    "        target_dir = \"C:/Users/dell/Documents/VIT/Capstone/Dataset/Cropped/test/\" + cl + \"/\" + images\n",
    "        # print(target_dir)\n",
    "        cv2.imwrite(target_dir, cropped_img)\n",
    "        count += 1\n",
    "    print(count)"
   ]
  }
 ],
 "metadata": {
  "kernelspec": {
   "display_name": "Python 3",
   "language": "python",
   "name": "python3"
  },
  "language_info": {
   "codemirror_mode": {
    "name": "ipython",
    "version": 3
   },
   "file_extension": ".py",
   "mimetype": "text/x-python",
   "name": "python",
   "nbconvert_exporter": "python",
   "pygments_lexer": "ipython3",
   "version": "3.9.11"
  }
 },
 "nbformat": 4,
 "nbformat_minor": 2
}
